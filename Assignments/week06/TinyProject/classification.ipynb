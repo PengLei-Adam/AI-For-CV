{
 "cells": [
  {
   "cell_type": "code",
   "execution_count": 1,
   "metadata": {},
   "outputs": [],
   "source": [
    "%matplotlib inline\n",
    "import time\n",
    "from glob import glob\n",
    "import re\n",
    "import os\n",
    "from collections import namedtuple\n",
    "\n",
    "import numpy as np\n",
    "import matplotlib.pyplot as plt\n",
    "from PIL import Image\n",
    "\n",
    "import torch\n",
    "from torch import nn, optim\n",
    "from torchvision import datasets, transforms\n",
    "import torch.nn.functional as F\n",
    "from torch.utils.data import DataLoader, Dataset\n"
   ]
  },
  {
   "cell_type": "markdown",
   "metadata": {},
   "source": [
    "### Settings"
   ]
  },
  {
   "cell_type": "code",
   "execution_count": 2,
   "metadata": {},
   "outputs": [],
   "source": [
    "epochs = 50\n",
    "batch_size = 10\n",
    "learning_rate = 0.01\n",
    "\n",
    "train_root = 'src_data/Train'\n",
    "test_root = 'src_data/Test'\n",
    "\n",
    "device = torch.device('cuda:0' if torch.cuda.is_available() else 'cpu')"
   ]
  },
  {
   "cell_type": "markdown",
   "metadata": {},
   "source": [
    "### DataSet"
   ]
  },
  {
   "cell_type": "code",
   "execution_count": 3,
   "metadata": {},
   "outputs": [],
   "source": [
    "\n",
    "class TinyDataset(Dataset):\n",
    "    \n",
    "    def __init__(self, folder, labelfile, transform=None):\n",
    "        image_pat = re.compile('.*\\.({})'.format('|'.join(['jpg', 'png', 'jpeg', 'tif', 'ppm', 'bmp', 'tiff'])))\n",
    "        self.folder = folder\n",
    "        self.labelfile = labelfile\n",
    "        self.transform = transform\n",
    "    \n",
    "        if not os.path.isfile(labelfile):\n",
    "            print('{} not found'.format(labelfile))\n",
    "            return\n",
    "        \n",
    "        self.samples = []\n",
    "        \n",
    "        with open(labelfile, 'r') as f:\n",
    "            for line in f:\n",
    "                items = line.split(' ')\n",
    "                sample = {'image': os.path.join(self.folder, items[0]), 'brand': int(items[1]), 'type': int(items[2])}\n",
    "                self.samples.append(sample)\n",
    "    \n",
    "    def __len__(self):\n",
    "        return len(self.samples)\n",
    "\n",
    "    def __getitem__(self, idx):\n",
    "        sample = self.samples[idx]\n",
    "        if not os.path.isfile(sample['image']):\n",
    "            print('{} not found'.format(sample['image']))\n",
    "            return None\n",
    "        \n",
    "        image = Image.open(sample['image'])\n",
    "        if self.transform:\n",
    "            image = self.transform(image)\n",
    "        tensor_sample = sample.copy()\n",
    "        tensor_sample['image'] = image\n",
    "        \n",
    "        return tensor_sample"
   ]
  },
  {
   "cell_type": "markdown",
   "metadata": {},
   "source": [
    "### Network"
   ]
  },
  {
   "cell_type": "code",
   "execution_count": 4,
   "metadata": {},
   "outputs": [],
   "source": [
    "class Net(nn.Module):\n",
    "    def __init__(self):\n",
    "        super().__init__()\n",
    "        \n",
    "        #3x500x500 => 3x250x250\n",
    "        self.conv_1 = nn.Conv2d(3, 3, kernel_size=(3, 3), padding=1)\n",
    "        self.pool_1 = nn.MaxPool2d(kernel_size=(2, 2))\n",
    "        \n",
    "        #6x250x250 => 6x125x125\n",
    "        self.conv_2 = nn.Conv2d(3, 6, kernel_size=(3, 3), padding=1)\n",
    "        self.pool_2 = nn.MaxPool2d(kernel_size=(2, 2))\n",
    "        \n",
    "        self.drop = nn.Dropout2d(0.2)\n",
    "        \n",
    "        self.fc1 = nn.Linear(6*125*125, 100)\n",
    "        \n",
    "        self.fc2 = nn.Linear(100, 3)\n",
    "        self.softmax1 = nn.Softmax(dim=1)\n",
    "        self.fc3 = nn.Linear(100, 2)\n",
    "        self.softmax2 = nn.Softmax(dim=1)\n",
    "    \n",
    "    def forward(self, x):\n",
    "        x = self.conv_1(x)\n",
    "        x = F.relu(x)\n",
    "        x = self.pool_1(x)\n",
    "        \n",
    "        x = self.conv_2(x)\n",
    "        x = F.relu(x)\n",
    "        x = self.pool_2(x)\n",
    "        \n",
    "        x = x.view(x.shape[0], -1)\n",
    "        x = self.fc1(x)\n",
    "        x = F.relu(x)\n",
    "        x = self.drop(x)\n",
    "        \n",
    "        x_brand = self.softmax1(self.fc2(x))\n",
    "        x_type = self.softmax2(self.fc3(x))\n",
    "        \n",
    "        return x_brand, x_type\n",
    "        \n",
    "        "
   ]
  },
  {
   "cell_type": "markdown",
   "metadata": {},
   "source": [
    "### Train"
   ]
  },
  {
   "cell_type": "code",
   "execution_count": 6,
   "metadata": {},
   "outputs": [],
   "source": [
    "def compute_accuracy(model, loader, device):\n",
    "    accuracy_brand = 0\n",
    "    accuracy_type = 0\n",
    "    for sample in loader:\n",
    "        image = sample['image'].to(device)\n",
    "        y_brand = sample['brand'].to(device)\n",
    "        y_type = sample['type'].to(device)\n",
    "        \n",
    "        x_brand, x_type = model(image)\n",
    "        x_brand = x_brand.view(-1, 3)\n",
    "        x_type = x_type.view(-1, 2)\n",
    "        \n",
    "        _, pred_brand = torch.max(x_brand, 1)\n",
    "        _, pred_type = torch.max(x_type, 1)\n",
    "        \n",
    "        correct_brand = torch.sum(pred_brand == y_brand)\n",
    "        correct_type = torch.sum(pred_type == y_type)\n",
    "        \n",
    "        accuracy_brand += correct_brand\n",
    "        accuracy_type += correct_type\n",
    "        \n",
    "        \n",
    "    \n",
    "    accuracy_brand = accuracy_brand.float() / len(loader.dataset)\n",
    "    accuracy_type = accuracy_type.float() / len(loader.dataset)\n",
    "    \n",
    "    return accuracy_brand, accuracy_type\n",
    "        \n",
    "def train(model, optimizer, trainloader, testloader, device, criterion, epochs=10):\n",
    "\n",
    "    start_time = time.time()\n",
    "    for e in range(epochs):\n",
    "        running_loss = 0.0\n",
    "\n",
    "        for sample in trainloader:\n",
    "            model.train()\n",
    "\n",
    "            image, y_brand, y_type = sample\n",
    "            image = sample['image'].to(device)\n",
    "            y_brand = sample['brand'].to(device)\n",
    "            y_type = sample['type'].to(device)\n",
    "            \n",
    "            optimizer.zero_grad()\n",
    "            \n",
    "            x_brand, x_type = model(image)\n",
    "\n",
    "            x_brand = x_brand.view(-1, 3)\n",
    "            x_type = x_type.view(-1, 2)\n",
    "\n",
    "            _, pred_brand = torch.max(x_brand, 1)\n",
    "            _, pred_type = torch.max(x_type, 1)\n",
    "\n",
    "            loss = criterion(x_brand, y_brand) + criterion(x_type, y_type)\n",
    "            \n",
    "            loss.backward()\n",
    "            optimizer.step()\n",
    "\n",
    "            model.eval()\n",
    "\n",
    "            running_loss += loss.item() * image.size(0)\n",
    "        \n",
    "        print('{}/{}: Time: {:.2f}mm, Train Loss: {:.4f}, Acc_brand: {:.2f}, Acc_type: {:.2f}'.format(e+1, epochs,\n",
    "                                                                                      (time.time() - start_time)/60,\n",
    "                                                                                      running_loss,\n",
    "                                                                                      *compute_accuracy(model, trainloader, device)))\n",
    "        print('{}/{}: Test Acc_brand: {:.2f} Acc_type: {:.2f}'.format(e+1, epochs, *compute_accuracy(model, testloader, device)))\n",
    "        \n",
    "        "
   ]
  },
  {
   "cell_type": "markdown",
   "metadata": {},
   "source": [
    "### Main Process"
   ]
  },
  {
   "cell_type": "code",
   "execution_count": null,
   "metadata": {},
   "outputs": [
    {
     "name": "stdout",
     "output_type": "stream",
     "text": [
      "1/50: Train Loss: 122.2022, Acc_brand: 0.33, Acc_type: 0.50\n",
      "1/50: Test Acc_brand: 0.33 Acc_type: 0.50\n",
      "2/50: Train Loss: 121.8824, Acc_brand: 0.33, Acc_type: 0.50\n",
      "2/50: Test Acc_brand: 0.33 Acc_type: 0.50\n",
      "3/50: Train Loss: 121.8824, Acc_brand: 0.33, Acc_type: 0.50\n",
      "3/50: Test Acc_brand: 0.33 Acc_type: 0.50\n",
      "4/50: Train Loss: 121.8824, Acc_brand: 0.33, Acc_type: 0.50\n",
      "4/50: Test Acc_brand: 0.33 Acc_type: 0.50\n",
      "5/50: Train Loss: 121.8824, Acc_brand: 0.33, Acc_type: 0.50\n",
      "5/50: Test Acc_brand: 0.33 Acc_type: 0.50\n",
      "6/50: Train Loss: 121.8824, Acc_brand: 0.33, Acc_type: 0.50\n",
      "6/50: Test Acc_brand: 0.33 Acc_type: 0.50\n"
     ]
    }
   ],
   "source": [
    "train_transform = transforms.Compose([transforms.Resize((500, 500)),\n",
    "                                      transforms.ToTensor(),\n",
    "                                      transforms.Normalize((0.5, 0.5, 0.5), (0.5, 0.5, 0.5))\n",
    "                               ])\n",
    "test_transform = transforms.Compose([transforms.Resize((500, 500)),\n",
    "                                    transforms.ToTensor(),\n",
    "                                     transforms.Normalize((0.5, 0.5, 0.5), (0.5, 0.5, 0.5))\n",
    "                               ])\n",
    "trainset = TinyDataset(train_root, os.path.join(train_root, 'Label.TXT'), transform=train_transform)\n",
    "testset = TinyDataset(test_root, os.path.join(test_root, 'Label.TXT'), transform=test_transform)\n",
    "\n",
    "trainloader = DataLoader(trainset, shuffle=True, batch_size=batch_size)\n",
    "testloader = DataLoader(testset)\n",
    "\n",
    "model = Net()\n",
    "model.to(device)\n",
    "optimizer = optim.Adam(model.parameters(), lr=0.03)\n",
    "\n",
    "train(model, optimizer, trainloader, testloader, device, nn.CrossEntropyLoss(), epochs)"
   ]
  }
 ],
 "metadata": {
  "kernelspec": {
   "display_name": "Python 3",
   "language": "python",
   "name": "python3"
  },
  "language_info": {
   "codemirror_mode": {
    "name": "ipython",
    "version": 3
   },
   "file_extension": ".py",
   "mimetype": "text/x-python",
   "name": "python",
   "nbconvert_exporter": "python",
   "pygments_lexer": "ipython3",
   "version": "3.7.0"
  },
  "varInspector": {
   "cols": {
    "lenName": 16,
    "lenType": 16,
    "lenVar": 40
   },
   "kernels_config": {
    "python": {
     "delete_cmd_postfix": "",
     "delete_cmd_prefix": "del ",
     "library": "var_list.py",
     "varRefreshCmd": "print(var_dic_list())"
    },
    "r": {
     "delete_cmd_postfix": ") ",
     "delete_cmd_prefix": "rm(",
     "library": "var_list.r",
     "varRefreshCmd": "cat(var_dic_list()) "
    }
   },
   "types_to_exclude": [
    "module",
    "function",
    "builtin_function_or_method",
    "instance",
    "_Feature"
   ],
   "window_display": false
  }
 },
 "nbformat": 4,
 "nbformat_minor": 2
}
